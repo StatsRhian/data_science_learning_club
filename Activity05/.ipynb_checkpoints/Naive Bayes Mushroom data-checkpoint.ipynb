{
 "cells": [
  {
   "cell_type": "markdown",
   "metadata": {
    "collapsed": true
   },
   "source": [
    "# Naive Bayes\n",
    "\n",
    "The purpose of this notebook is to read in the [UCI mushroom dataset](https://archive.ics.uci.edu/ml/datasets/Mushroom) and apply Naive Bayes Classification.\n",
    "\n",
    "* Learn about Naive Bayes and include the basic principles in Markdown\n",
    "* Import dataset both locally and directly from the web\n",
    "* Make a few simple plots looking at the dataset\n"
   ]
  },
  {
   "cell_type": "code",
   "execution_count": 1,
   "metadata": {
    "collapsed": false
   },
   "outputs": [],
   "source": [
    "#import libraries\n",
    "import pandas as pd\n",
    "import numpy as np\n",
    "import sklearn as sk\n",
    "import seaborn as sns\n",
    "from urllib.request import urlretrieve"
   ]
  },
  {
   "cell_type": "code",
   "execution_count": 2,
   "metadata": {
    "collapsed": false
   },
   "outputs": [],
   "source": [
    "# Read in data. it's comma-separated with no column names.\n",
    "# url = \"https://archive.ics.uci.edu/ml/machine-learning-databases/mushroom/agaricus-lepiota.data\"\n",
    "# Save file locally\n",
    "# urlretrieve(url, \"agaricus-lepiota.data\")\n",
    "df = pd.read_csv('agaricus-lepiota.data', sep=',', header=None)\n",
    "\n",
    "#manually add column names from documentation (1st col is class: e=edible,p=poisonous; rest are attributes)\n",
    "df.columns = ['class','cap-shape','cap-surface','cap-color','bruises','odor','gill-attachment',\n",
    "             'gill-spacing','gill-size','gill-color','stalk-shape','stalk-root',\n",
    "             'stalk-surf-above-ring','stalk-surf-below-ring','stalk-color-above-ring','stalk-color-below-ring',\n",
    "             'veil-type','veil-color','ring-number','ring-type','spore-color','population','habitat']"
   ]
  },
  {
   "cell_type": "code",
   "execution_count": 3,
   "metadata": {
    "collapsed": false
   },
   "outputs": [
    {
     "name": "stdout",
     "output_type": "stream",
     "text": [
      "  class cap-shape cap-surface cap-color bruises odor gill-attachment  \\\n",
      "0     p         x           s         n       t    p               f   \n",
      "1     e         x           s         y       t    a               f   \n",
      "2     e         b           s         w       t    l               f   \n",
      "3     p         x           y         w       t    p               f   \n",
      "4     e         x           s         g       f    n               f   \n",
      "\n",
      "  gill-spacing gill-size gill-color   ...   stalk-surf-below-ring  \\\n",
      "0            c         n          k   ...                       s   \n",
      "1            c         b          k   ...                       s   \n",
      "2            c         b          n   ...                       s   \n",
      "3            c         n          n   ...                       s   \n",
      "4            w         b          k   ...                       s   \n",
      "\n",
      "  stalk-color-above-ring stalk-color-below-ring veil-type veil-color  \\\n",
      "0                      w                      w         p          w   \n",
      "1                      w                      w         p          w   \n",
      "2                      w                      w         p          w   \n",
      "3                      w                      w         p          w   \n",
      "4                      w                      w         p          w   \n",
      "\n",
      "  ring-number ring-type spore-color population habitat  \n",
      "0           o         p           k          s       u  \n",
      "1           o         p           n          n       g  \n",
      "2           o         p           n          n       m  \n",
      "3           o         p           k          s       u  \n",
      "4           o         e           n          a       g  \n",
      "\n",
      "[5 rows x 23 columns]\n"
     ]
    }
   ],
   "source": [
    "print(df.head())"
   ]
  },
  {
   "cell_type": "code",
   "execution_count": 4,
   "metadata": {
    "collapsed": false
   },
   "outputs": [
    {
     "name": "stdout",
     "output_type": "stream",
     "text": [
      "e    4208\n",
      "p    3916\n",
      "Name: class, dtype: int64\n"
     ]
    },
    {
     "data": {
      "text/plain": [
       "<matplotlib.axes._subplots.AxesSubplot at 0x7f7c002f13c8>"
      ]
     },
     "execution_count": 4,
     "metadata": {},
     "output_type": "execute_result"
    },
    {
     "data": {
      "image/png": "[encoded data removed]",
      "text/plain": [
       "<matplotlib.figure.Figure at 0x7f7c0680e6a0>"
      ]
     },
     "metadata": {},
     "output_type": "display_data"
    }
   ],
   "source": [
    "#show plots in notebook\n",
    "%matplotlib inline\n",
    "\n",
    "#bar chart of classes using pandas plotting\n",
    "print(df['class'].value_counts())\n",
    "df['class'].value_counts().plot(kind='bar')"
   ]
  },
  {
   "cell_type": "markdown",
   "metadata": {
    "collapsed": true
   },
   "source": [
    "This plot shows the number of edible mushrroms in the dataset against the number of poisonous mushrooms. There are slightly more edible mushrooms than poisonous ones but they are fairly evenly split.  Now I will visually inspect the features for any predictive/non-predicitive features. "
   ]
  },
  {
   "cell_type": "code",
   "execution_count": 5,
   "metadata": {
    "collapsed": false
   },
   "outputs": [
    {
     "name": "stdout",
     "output_type": "stream",
     "text": [
      "w    2388\n",
      "n    1968\n",
      "k    1872\n",
      "h    1632\n",
      "r      72\n",
      "u      48\n",
      "y      48\n",
      "b      48\n",
      "o      48\n",
      "Name: spore-color, dtype: int64\n"
     ]
    },
    {
     "data": {
      "text/plain": [
       "<seaborn.axisgrid.FacetGrid at 0x7f7c067a2cc0>"
      ]
     },
     "execution_count": 5,
     "metadata": {},
     "output_type": "execute_result"
    },
    {
     "data": {
      "image/png": "[encoded data removed]",
      "text/plain": [
       "<matplotlib.figure.Figure at 0x7f7c067a2cf8>"
      ]
     },
     "metadata": {},
     "output_type": "display_data"
    }
   ],
   "source": [
    "print(df['spore-color'].value_counts())\n",
    "\n",
    "#seaborn factorplot to show edible/poisonous breakdown by different factors\n",
    "#df_forplot = df.loc[:,('class','cap-shape','gill-color')]\n",
    "#g = sns.factorplot(\"class\", col=\"cap-shape\", data=df_forplot,\n",
    " #                   kind=\"count\", size=2.5, aspect=.8, col_wrap=6)\n",
    "\n",
    "sns.factorplot(\"class\", col = \"spore-color\", data = df, kind = \"count\", col_wrap = 5)    "
   ]
  },
  {
   "cell_type": "markdown",
   "metadata": {},
   "source": [
    "Spore colour seems to be a strong indicator of poisonous/edible.\n",
    "\n",
    "As Naive Bayes can deal with non-informatative features, first we will apply Naive Bayes to the whole feature space and look at the results. "
   ]
  },
  {
   "cell_type": "code",
   "execution_count": 13,
   "metadata": {
    "collapsed": false
   },
   "outputs": [
    {
     "data": {
      "text/plain": [
       "0       p\n",
       "1       e\n",
       "2       e\n",
       "3       p\n",
       "4       e\n",
       "5       e\n",
       "6       e\n",
       "7       e\n",
       "8       p\n",
       "9       e\n",
       "10      e\n",
       "11      e\n",
       "12      e\n",
       "13      p\n",
       "14      e\n",
       "15      e\n",
       "16      e\n",
       "17      p\n",
       "18      p\n",
       "19      p\n",
       "20      e\n",
       "21      p\n",
       "22      e\n",
       "23      e\n",
       "24      e\n",
       "25      p\n",
       "26      e\n",
       "27      e\n",
       "28      e\n",
       "29      e\n",
       "       ..\n",
       "8094    e\n",
       "8095    p\n",
       "8096    e\n",
       "8097    p\n",
       "8098    p\n",
       "8099    e\n",
       "8100    e\n",
       "8101    p\n",
       "8102    e\n",
       "8103    e\n",
       "8104    e\n",
       "8105    e\n",
       "8106    e\n",
       "8107    e\n",
       "8108    p\n",
       "8109    e\n",
       "8110    e\n",
       "8111    e\n",
       "8112    e\n",
       "8113    p\n",
       "8114    p\n",
       "8115    e\n",
       "8116    p\n",
       "8117    p\n",
       "8118    p\n",
       "8119    e\n",
       "8120    e\n",
       "8121    e\n",
       "8122    p\n",
       "8123    e\n",
       "Name: class, dtype: object"
      ]
     },
     "execution_count": 13,
     "metadata": {},
     "output_type": "execute_result"
    }
   ],
   "source": [
    "df.columns\n",
    "X = df.drop('class', 1)\n",
    "Y = df[\"class\"]\n"
   ]
  },
  {
   "cell_type": "markdown",
   "metadata": {
    "collapsed": true
   },
   "source": [
    "As the features are all catergorical we first use preprocessing.labelencoder to convert to numeric. "
   ]
  },
  {
   "cell_type": "code",
   "execution_count": 20,
   "metadata": {
    "collapsed": false
   },
   "outputs": [
    {
     "name": "stdout",
     "output_type": "stream",
     "text": [
      "['e' 'p']\n"
     ]
    },
    {
     "data": {
      "text/plain": [
       "array([1, 0, 0, ..., 0, 1, 0])"
      ]
     },
     "execution_count": 20,
     "metadata": {},
     "output_type": "execute_result"
    }
   ],
   "source": [
    "from sklearn import preprocessing\n",
    "\n",
    "le = preprocessing.LabelEncoder()\n",
    "le.fit(Y)\n",
    "print(le.classes_)\n",
    "y = le.transform(Y)\n"
   ]
  },
  {
   "cell_type": "code",
   "execution_count": null,
   "metadata": {
    "collapsed": true
   },
   "outputs": [],
   "source": []
  }
 ],
 "metadata": {
  "kernelspec": {
   "display_name": "Python 3",
   "language": "python",
   "name": "python3"
  },
  "language_info": {
   "codemirror_mode": {
    "name": "ipython",
    "version": 3
   },
   "file_extension": ".py",
   "mimetype": "text/x-python",
   "name": "python",
   "nbconvert_exporter": "python",
   "pygments_lexer": "ipython3",
   "version": "3.5.1"
  }
 },
 "nbformat": 4,
 "nbformat_minor": 0
}
