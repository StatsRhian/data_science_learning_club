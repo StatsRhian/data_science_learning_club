{
 "cells": [
  {
   "cell_type": "markdown",
   "metadata": {
    "collapsed": true
   },
   "source": [
    "# Naive Bayes\n",
    "\n",
    "The purpose of this notebook is to read in the [UCI mushroom dataset](https://archive.ics.uci.edu/ml/datasets/Mushroom) and apply Naive Bayes Classification.\n",
    "\n",
    "* Learn about Naive Bayes and include the basic principles in Markdown\n",
    "* Import dataset both locally and directly from the web\n",
    "* Make a few simple plots looking at the dataset\n"
   ]
  },
  {
   "cell_type": "code",
   "execution_count": 23,
   "metadata": {
    "collapsed": false
   },
   "outputs": [],
   "source": [
    "#import libraries\n",
    "import pandas as pd\n",
    "import numpy as np\n",
    "import sklearn as sk\n",
    "import seaborn as sns\n",
    "from urllib.request import urlretrieve\n",
    "import matplotlib.pyplot as plt"
   ]
  },
  {
   "cell_type": "code",
   "execution_count": 2,
   "metadata": {
    "collapsed": false
   },
   "outputs": [],
   "source": [
    "# Read in data. it's comma-separated with no column names.\n",
    "# url = \"https://archive.ics.uci.edu/ml/machine-learning-databases/mushroom/agaricus-lepiota.data\"\n",
    "# Save file locally\n",
    "# urlretrieve(url, \"agaricus-lepiota.data\")\n",
    "df = pd.read_csv('agaricus-lepiota.data', sep=',', header=None)\n",
    "\n",
    "#manually add column names from documentation (1st col is class: e=edible,p=poisonous; rest are attributes)\n",
    "df.columns = ['class','cap-shape','cap-surface','cap-color','bruises','odor','gill-attachment',\n",
    "             'gill-spacing','gill-size','gill-color','stalk-shape','stalk-root',\n",
    "             'stalk-surf-above-ring','stalk-surf-below-ring','stalk-color-above-ring','stalk-color-below-ring',\n",
    "             'veil-type','veil-color','ring-number','ring-type','spore-color','population','habitat']"
   ]
  },
  {
   "cell_type": "code",
   "execution_count": 3,
   "metadata": {
    "collapsed": false
   },
   "outputs": [
    {
     "name": "stdout",
     "output_type": "stream",
     "text": [
      "  class cap-shape cap-surface cap-color bruises odor gill-attachment  \\\n",
      "0     p         x           s         n       t    p               f   \n",
      "1     e         x           s         y       t    a               f   \n",
      "2     e         b           s         w       t    l               f   \n",
      "3     p         x           y         w       t    p               f   \n",
      "4     e         x           s         g       f    n               f   \n",
      "\n",
      "  gill-spacing gill-size gill-color   ...   stalk-surf-below-ring  \\\n",
      "0            c         n          k   ...                       s   \n",
      "1            c         b          k   ...                       s   \n",
      "2            c         b          n   ...                       s   \n",
      "3            c         n          n   ...                       s   \n",
      "4            w         b          k   ...                       s   \n",
      "\n",
      "  stalk-color-above-ring stalk-color-below-ring veil-type veil-color  \\\n",
      "0                      w                      w         p          w   \n",
      "1                      w                      w         p          w   \n",
      "2                      w                      w         p          w   \n",
      "3                      w                      w         p          w   \n",
      "4                      w                      w         p          w   \n",
      "\n",
      "  ring-number ring-type spore-color population habitat  \n",
      "0           o         p           k          s       u  \n",
      "1           o         p           n          n       g  \n",
      "2           o         p           n          n       m  \n",
      "3           o         p           k          s       u  \n",
      "4           o         e           n          a       g  \n",
      "\n",
      "[5 rows x 23 columns]\n"
     ]
    }
   ],
   "source": [
    "print(df.head())"
   ]
  },
  {
   "cell_type": "code",
   "execution_count": 4,
   "metadata": {
    "collapsed": false
   },
   "outputs": [
    {
     "name": "stdout",
     "output_type": "stream",
     "text": [
      "e    4208\n",
      "p    3916\n",
      "Name: class, dtype: int64\n"
     ]
    },
    {
     "data": {
      "text/plain": [
       "<matplotlib.axes._subplots.AxesSubplot at 0x7f86262873c8>"
      ]
     },
     "execution_count": 4,
     "metadata": {},
     "output_type": "execute_result"
    },
    {
     "data": {
      "image/png": "[encoded data removed]",
      "text/plain": [
       "<matplotlib.figure.Figure at 0x7f86263216d8>"
      ]
     },
     "metadata": {},
     "output_type": "display_data"
    }
   ],
   "source": [
    "#show plots in notebook\n",
    "%matplotlib inline\n",
    "\n",
    "#bar chart of classes using pandas plotting\n",
    "print(df['class'].value_counts())\n",
    "df['class'].value_counts().plot(kind='bar')"
   ]
  },
  {
   "cell_type": "markdown",
   "metadata": {
    "collapsed": true
   },
   "source": [
    "This plot shows the number of edible mushrroms in the dataset against the number of poisonous mushrooms. There are slightly more edible mushrooms than poisonous ones but they are fairly evenly split.  Now I will visually inspect the features for any predictive/non-predicitive features. "
   ]
  },
  {
   "cell_type": "code",
   "execution_count": 5,
   "metadata": {
    "collapsed": false
   },
   "outputs": [
    {
     "name": "stdout",
     "output_type": "stream",
     "text": [
      "w    2388\n",
      "n    1968\n",
      "k    1872\n",
      "h    1632\n",
      "r      72\n",
      "y      48\n",
      "u      48\n",
      "o      48\n",
      "b      48\n",
      "Name: spore-color, dtype: int64\n"
     ]
    },
    {
     "data": {
      "text/plain": [
       "<seaborn.axisgrid.FacetGrid at 0x7f861da56780>"
      ]
     },
     "execution_count": 5,
     "metadata": {},
     "output_type": "execute_result"
    },
    {
     "data": {
      "image/png": "[encoded data removed]",
      "text/plain": [
       "<matplotlib.figure.Figure at 0x7f8626247a20>"
      ]
     },
     "metadata": {},
     "output_type": "display_data"
    }
   ],
   "source": [
    "print(df['spore-color'].value_counts())\n",
    "\n",
    "#seaborn factorplot to show edible/poisonous breakdown by different factors\n",
    "#df_forplot = df.loc[:,('class','cap-shape','gill-color')]\n",
    "#g = sns.factorplot(\"class\", col=\"cap-shape\", data=df_forplot,\n",
    " #                   kind=\"count\", size=2.5, aspect=.8, col_wrap=6)\n",
    "\n",
    "sns.factorplot(\"class\", col = \"spore-color\", data = df, kind = \"count\", col_wrap = 5)    "
   ]
  },
  {
   "cell_type": "markdown",
   "metadata": {},
   "source": [
    "Spore colour seems to be a strong indicator of poisonous/edible.\n",
    "\n",
    "As Naive Bayes can deal with non-informatative features, first we will apply Naive Bayes to the whole feature space and look at the results. "
   ]
  },
  {
   "cell_type": "code",
   "execution_count": 6,
   "metadata": {
    "collapsed": false
   },
   "outputs": [],
   "source": [
    "df.columns\n",
    "X = df.drop('class', 1)\n",
    "Y = df[\"class\"]\n"
   ]
  },
  {
   "cell_type": "markdown",
   "metadata": {
    "collapsed": true
   },
   "source": [
    "As the features are all catergorical we first use preprocessing.labelencoder to convert to numeric. "
   ]
  },
  {
   "cell_type": "code",
   "execution_count": 7,
   "metadata": {
    "collapsed": false
   },
   "outputs": [
    {
     "name": "stdout",
     "output_type": "stream",
     "text": [
      "['e' 'p']\n"
     ]
    }
   ],
   "source": [
    "from sklearn import preprocessing\n",
    "\n",
    "le = preprocessing.LabelEncoder()\n",
    "le.fit(Y)\n",
    "print(le.classes_)\n",
    "y = le.transform(Y)\n",
    "# Now y is an array of boolean values with poison = 1.\n",
    "# Lets do the same thing for the X array\n",
    "\n",
    "# Initialise data frame. I feel this section could be done in a more efficient way.\n",
    "# Looping over columns and expanding the array x feels redundant.\n",
    "x = pd.DataFrame(X, columns=[X.columns[0]])\n",
    "for colname in X.columns:\n",
    "    le.fit(X[colname])\n",
    "   # print(colname, le.classes_)\n",
    "    x[colname] = le.transform(X[colname])\n"
   ]
  },
  {
   "cell_type": "code",
   "execution_count": 8,
   "metadata": {
    "collapsed": false
   },
   "outputs": [
    {
     "name": "stdout",
     "output_type": "stream",
     "text": [
      "(4874, 22)\n",
      "(3250, 22)\n"
     ]
    }
   ],
   "source": [
    "# Now we split the dataset into training and testing. \n",
    "\n",
    "from sklearn.cross_validation import train_test_split\n",
    "X_train, X_test, y_train, y_test = train_test_split(x, y, test_size=0.4, random_state=0)\n",
    "print(X_train.shape)\n",
    "print(X_test.shape)\n"
   ]
  },
  {
   "cell_type": "code",
   "execution_count": 9,
   "metadata": {
    "collapsed": false
   },
   "outputs": [
    {
     "name": "stdout",
     "output_type": "stream",
     "text": [
      "[1 0 0 ..., 0 1 0]\n",
      "(4874,)\n"
     ]
    }
   ],
   "source": [
    "# Finally we apply Gaussian Naive Bayes.\n",
    "\n",
    "#initialize and fit the naive bayes classifier\n",
    "from sklearn.naive_bayes import GaussianNB\n",
    "skgnb = GaussianNB()\n",
    "skgnb.fit(X_train,y_train)\n",
    "train_predict = skgnb.predict(X_train)\n",
    "print(train_predict)\n",
    "print(train_predict.shape)\n"
   ]
  },
  {
   "cell_type": "markdown",
   "metadata": {
    "collapsed": true
   },
   "source": [
    "Now I'll compare the train_predict with the actual results y_train using a cofusion matrix. "
   ]
  },
  {
   "cell_type": "code",
   "execution_count": 11,
   "metadata": {
    "collapsed": false
   },
   "outputs": [
    {
     "data": {
      "text/plain": [
       "array([[2290,  219],\n",
       "       [ 171, 2194]])"
      ]
     },
     "execution_count": 11,
     "metadata": {},
     "output_type": "execute_result"
    }
   ],
   "source": [
    "from sklearn.metrics import confusion_matrix\n",
    "\n",
    "confusion_matrix(y_train, train_predict)\n"
   ]
  },
  {
   "cell_type": "markdown",
   "metadata": {},
   "source": [
    "Next, I'll use the trained Naive Bayes on the test data and look at the results. "
   ]
  },
  {
   "cell_type": "code",
   "execution_count": 21,
   "metadata": {
    "collapsed": false
   },
   "outputs": [
    {
     "name": "stdout",
     "output_type": "stream",
     "text": [
      "[[1525  174]\n",
      " [ 122 1429]]\n",
      "1699\n",
      "1551\n",
      "1647\n",
      "1603\n"
     ]
    }
   ],
   "source": [
    "test_predict = skgnb.predict(X_test)\n",
    "\n",
    "test_matrix = confusion_matrix(y_test, test_predict)\n",
    "\n",
    "print(test_matrix)\n",
    "\n",
    "print(sum(y_test==0))\n",
    "print(sum(y_test==1))\n",
    "print(sum(test_predict==0))\n",
    "print(sum(test_predict==1))"
   ]
  },
  {
   "cell_type": "markdown",
   "metadata": {},
   "source": [
    "So, what have we learned? It's not clear from the array which column relates to edible and which related to poisonous. \n",
    "In the case of poisonous mushrooms we care about false positives and false negatives!\n",
    "\n",
    "Initally we encoded edible = 0, poisonous = 1. \n",
    "\n",
    "Rows sum to give y_test\n",
    "Columns sum to give test_predict. \n",
    "\n",
    "Therefore:\n",
    "\n",
    "* 1525 edible identified as edible\n",
    "* 174 edible identified as poisonous\n",
    "* 122 poisonous identified as edible\n",
    "* 1429 poisonous identified as poisonous\n",
    "\n",
    "I plotted this using some code from the [sklearn help files](http://scikit-learn.org/stable/auto_examples/model_selection/plot_confusion_matrix.html#sphx-glr-auto-examples-model-selection-plot-confusion-matrix-py) and using seaborn heatmap function."
   ]
  },
  {
   "cell_type": "code",
   "execution_count": 82,
   "metadata": {
    "collapsed": false
   },
   "outputs": [
    {
     "data": {
      "image/png": "[encoded data removed]",
      "text/plain": [
       "<matplotlib.figure.Figure at 0x7f861b59aba8>"
      ]
     },
     "metadata": {},
     "output_type": "display_data"
    }
   ],
   "source": [
    "normalized_matrix = test_matrix.astype('float') / test_matrix.sum(axis=1)[:, np.newaxis]\n",
    "sns.heatmap(normalized_matrix.round(3), annot = True)\n",
    "\n",
    "classes = [\"Edible\", \"Poisonous\"]\n",
    "\n",
    "# Add title and x, y axis labels\n",
    "plt.title(\"Normalized Confusion Matrix for Naive Bayes\")\n",
    "plt.tight_layout()\n",
    "plt.ylabel('True label')\n",
    "plt.xlabel('Predicted label')\n",
    "tick_marks = np.arange(len(classes)) + 0.5\n",
    "plt.xticks(tick_marks, classes, rotation=45)\n",
    "plt.yticks(tick_marks, classes)\n",
    "plt.show()\n"
   ]
  },
  {
   "cell_type": "markdown",
   "metadata": {},
   "source": [
    "Note that 122 mushrooms are classified as edible when they are actually poisonous! This results in a bad outcome for the human. In order to combat this, we could extract the posterior probabilities instead of the classifications and then we could use a higher threshold for classfication."
   ]
  },
  {
   "cell_type": "code",
   "execution_count": 96,
   "metadata": {
    "collapsed": false,
    "scrolled": true
   },
   "outputs": [
    {
     "data": {
      "text/plain": [
       "([array([ 1432.,    34.,    44.,    54.,    39.,    61.,    80.,   105.,\n",
       "           201.,  1200.]),\n",
       "  array([ 1200.,   201.,   105.,    80.,    61.,    39.,    54.,    44.,\n",
       "            34.,  1432.])],\n",
       " array([ 0. ,  0.1,  0.2,  0.3,  0.4,  0.5,  0.6,  0.7,  0.8,  0.9,  1. ]),\n",
       " <a list of 2 Lists of Patches objects>)"
      ]
     },
     "execution_count": 96,
     "metadata": {},
     "output_type": "execute_result"
    },
    {
     "data": {
      "image/png": "[encoded data removed]",
      "text/plain": [
       "<matplotlib.figure.Figure at 0x7f861bb07160>"
      ]
     },
     "metadata": {},
     "output_type": "display_data"
    }
   ],
   "source": [
    "y_prob = skgnb.predict_proba(X_test)\n",
    "plt.hist(y_prob)"
   ]
  },
  {
   "cell_type": "code",
   "execution_count": null,
   "metadata": {
    "collapsed": true
   },
   "outputs": [],
   "source": []
  }
 ],
 "metadata": {
  "kernelspec": {
   "display_name": "Python 3",
   "language": "python",
   "name": "python3"
  },
  "language_info": {
   "codemirror_mode": {
    "name": "ipython",
    "version": 3
   },
   "file_extension": ".py",
   "mimetype": "text/x-python",
   "name": "python",
   "nbconvert_exporter": "python",
   "pygments_lexer": "ipython3",
   "version": "3.5.1"
  }
 },
 "nbformat": 4,
 "nbformat_minor": 0
}
